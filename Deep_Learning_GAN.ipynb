{
  "nbformat": 4,
  "nbformat_minor": 0,
  "metadata": {
    "colab": {
      "name": "Deep Learning-GAN.ipynb",
      "provenance": [],
      "collapsed_sections": [],
      "toc_visible": true
    },
    "kernelspec": {
      "name": "python3",
      "display_name": "Python 3"
    }
  },
  "cells": [
    {
      "cell_type": "markdown",
      "metadata": {
        "id": "d6QHJkUatAUk",
        "colab_type": "text"
      },
      "source": [
        "# Generative Adversial Networks\n",
        "\n",
        "\n",
        "\n"
      ]
    },
    {
      "cell_type": "markdown",
      "metadata": {
        "id": "ZOcedg5i0UpT",
        "colab_type": "text"
      },
      "source": [
        "## Maximum of objective function relative to the discriminator\n",
        "We assume that the capacity of our model is unlimited and we wanna find the discriminator in which the objective function be its maximum. So we just need to the derivative of the objective relative to the discriminator be zero."
      ]
    },
    {
      "cell_type": "markdown",
      "metadata": {
        "id": "pwsEZuKzyehN",
        "colab_type": "text"
      },
      "source": [
        "$\\mathbb{V}(G, D) = \\mathbb{E}_{x \\sim p_{data}} [\\log \\mathbb{D}(x)] + \\mathbb{E}_{x \\sim p_{G}} [\\log(1 - \\mathbb{D}(x))] \\rightarrow \\frac{d\\mathbb{V}(G, D)}{dD} = \\frac{d}{dD}\\int_x p_{data} [\\log \\mathbb{D}(x)] + p_G [\\log(1-\\mathbb{D}(x))] dx\\\\\n",
        "\\int_x \\frac{p_{data}}{\\mathbb{D}(x)} - \\frac{p_G}{1 - \\mathbb{D}(x)} dx = 0 \\Rightarrow \\frac{p_{data}}{\\mathbb{D}(x)} - \\frac{p_G}{1 - \\mathbb{D}(x)} = 0 \\longrightarrow \\frac{p_{data}}{\\mathbb{D}(x)} = \\frac{p_G}{1 - \\mathbb{D}(x)} \\Longrightarrow \\mathbb{D}(x) = \\frac{p_{data}}{p_G + p_{data}}$"
      ]
    },
    {
      "cell_type": "markdown",
      "metadata": {
        "id": "Q-FAY4lm0Q3s",
        "colab_type": "text"
      },
      "source": [
        "Now we want to put the optimal discriminator into the objective function and see what's gonna happen."
      ]
    },
    {
      "cell_type": "markdown",
      "metadata": {
        "id": "xwhZCCPR7frA",
        "colab_type": "text"
      },
      "source": [
        "$\\mathbb{D^*}(x) = \\frac{p_{data}}{p_{data} + p_G} \\, , \\mathbb{V}(G, D) = \\mathbb{E}_{x \\sim p_{data}} [\\log \\mathbb{D}(x)] + \\mathbb{E}_{x \\sim p_{G}} [\\log(1 - \\mathbb{D}(x))] \\\\ $\n",
        "$\\mathbb{V}(G, D^*) = \\mathbb{E}_{x \\sim p_{data}} [\\log (\\frac{p_{data}}{p_{data} + p_G})] + \\mathbb{E}_{x \\sim p_{G}} [\\log(1 - (\\frac{p_{data}}{p_{data} + p_G}))] =  \\mathbb{E}_{x \\sim p_{data}} [\\log (\\frac{p_{data}}{p_{data} + p_G})] + \\mathbb{E}_{x \\sim p_{G}} [\\log(\\frac{p_G}{p_{data} + p_G})] $\n",
        "$\\mathbb{V}(G, D^*) = \\int_x{ p_{data} \\log{[\\frac{p_{data}}{\\frac{p_{data} + p_G}{2}}]} + p_G \\log{[\\frac{p_G}{ \\frac{p_G + p_{data}}{2} }]} dx} - 2\\log{2}$\n",
        "$\\longrightarrow \\mathbb{V}(G, D^*) = -2\\log{2} + \\mathbb{KL}(p_{data} || \\frac{p_{data} + p_G}{2}) + \\mathbb{KL}(p_G || \\frac{p_{data} + p_G}{2}) = -2\\log{2} + 2\\mathbb{JS}(p_{data}||p_q)$"
      ]
    },
    {
      "cell_type": "markdown",
      "metadata": {
        "id": "hI7Ff2YPQZOq",
        "colab_type": "text"
      },
      "source": [
        "As we concluded , optimizing $\\mathbb{V}(G, D)$ where $D = D^*$ is equivalent to minimize the Jensen–Shannon distance of $p_{data}$ and $p_G$. But all these results is in theory, in practice we can't assume that the capasity is unlimited. So in practice during a batch we update parameters of both discriminator and generative multiple times."
      ]
    },
    {
      "cell_type": "markdown",
      "metadata": {
        "id": "ta3UW0hBY4k7",
        "colab_type": "text"
      },
      "source": [
        "## Gradient problem"
      ]
    },
    {
      "cell_type": "markdown",
      "metadata": {
        "id": "MGLCcrabY8K6",
        "colab_type": "text"
      },
      "source": [
        "Assume that the dataset domain and generative domain do not overlap. Also assume that $D$ is so near to $D^*$. \n",
        "\n",
        "We are going to calculate gradient of $\\log(1-D(x))$ relative to network's logit. Discriminator is equivalent to $\\sigma(a)$ which $a = {f}(x)$. In this situation $a$ is the logit."
      ]
    },
    {
      "cell_type": "markdown",
      "metadata": {
        "id": "4djGPJn2bDez",
        "colab_type": "text"
      },
      "source": [
        "$\\mathbb{F} = \\log(1 - D(x)) = \\log(1 - \\frac{1}{1 + \\exp(-a)}) = \\log(\\frac{\\exp(-a)}{1+\\exp(-a)}) = -a - \\log(1 + \\exp(-a))$\n",
        "\n",
        "$\\rightarrow \\nabla_a \\mathbb{F} = -1 + \\frac{\\exp(-a)}{1 + \\exp(-a)} = \\frac{-1}{1 + \\exp(-a)} = -\\sigma(a)$"
      ]
    },
    {
      "cell_type": "markdown",
      "metadata": {
        "id": "nxkb7A2VcO6T",
        "colab_type": "text"
      },
      "source": [
        "So whats the problem? <br/> \n",
        "If discriminator is near to the optimized, it will return 0 for the generative samples. So we have $\\sigma(a) = D(x) = 0$. Therefore In accordance with the results we concluded, the gradient will be zero too. So the gradient won't be reached to the previous layers.<br/>\n",
        "As the solution we suggest that use $-\\log{D(x)}$ as the loss function."
      ]
    },
    {
      "cell_type": "markdown",
      "metadata": {
        "id": "5O3JLJwLdpoP",
        "colab_type": "text"
      },
      "source": [
        "$\\mathbb{F} =  -\\log{D(x)} = -\\log{ \\frac{1}{1+\\exp(-a)} } = \\log{(1 + \\exp(-a))}$ <br/>\n",
        "$\\longrightarrow \\nabla_a \\mathbb{F} = -\\frac{\\exp(-a)}{1 + \\exp(-a)} = \\sigma(a) - 1$"
      ]
    },
    {
      "cell_type": "markdown",
      "metadata": {
        "id": "hmgag3p8e31_",
        "colab_type": "text"
      },
      "source": [
        "So in this state, the gradient will be $\\, -1$ and the problem is solved."
      ]
    },
    {
      "cell_type": "markdown",
      "metadata": {
        "id": "Bo1nYJ0BvZ9F",
        "colab_type": "text"
      },
      "source": [
        "## MLE-GAN"
      ]
    },
    {
      "cell_type": "markdown",
      "metadata": {
        "id": "qtTJGbWevcx8",
        "colab_type": "text"
      },
      "source": [
        "In this section, we're gonna analyze another approach we be equivalent to MLE approach. <br/>\n",
        "In MLE approach, the loss function for generative is:\n",
        "$$\\mathcal{L}_{MLE}(\\theta) = \\mathbb{E}_{x \\sim p_{data}}[-\\log p_G(x)]$$\n",
        "which $\\theta$ is the parameters of the generative network.<br/>\n",
        "In our new approach the loss function for the discriminator wont change but the loss function for the generative is :\n",
        "$$\\mathcal{L}_{\\small{MLE-GAN}}(\\theta) = \\mathbb{E}_{x \\sim p_G} [\\mathcal{f}(x)]$$\n",
        "Now we want to calculate the function $\\mathcal{f}$. <br/>\n",
        "We have to find the fuction $\\mathcal{f}$ which gradients of $\\mathcal{L}_{\\small{MLE-GAN}}$ respect to $\\theta$ be equal to gradients of $\\mathcal{L}_{\\small{MLE}}$ respect to $\\theta$.<br/><br/>\n",
        "$\\nabla_{\\mathcal{\\theta}} \\mathcal{L}_{\\small{MLE}}(\\theta) = \\mathbb{E}_{x \\sim p_{G}}[- \\nabla_{\\theta}\\log p_G(\\mathcal{x})] \\quad , \\quad \\nabla_{\\theta} \\mathcal{L}_{MLE-GAN}(\\theta) = \\nabla_{\\theta} \\int \\mathcal{f}(x) \\mathcal{p}_{G}(x) dx = \\int_x \\nabla_{\\theta}p_G(x) \\, f(x) dx$ <br/>\n",
        "$ \\rightarrow \\nabla_{\\theta} \\mathcal{L}_{MLE-GAN}(\\theta) = \\int_x \\frac{\\nabla_{\\theta}p_G(x)}{p_G(x)} f(x) p_G(x) dx = \\mathbb{E}_{x \\sim p_G}(\\nabla_{\\theta}[\\log p_G(x)] f(x))$ <br/>\n",
        "$$\\Longrightarrow f = -\\frac{p_{data}(x)}{p_G(x)}$$\n",
        "$D^* = \\frac{p_{data}(x)}{p_{data}(x) + p_G(x)} \\longrightarrow f = -\\frac{D^*}{1 - D^*} = -\\exp(a)$"
      ]
    },
    {
      "cell_type": "markdown",
      "metadata": {
        "id": "22roxl26BHR6",
        "colab_type": "text"
      },
      "source": [
        ""
      ]
    },
    {
      "cell_type": "code",
      "metadata": {
        "id": "jLxHoDhzvWUw",
        "colab_type": "code",
        "colab": {}
      },
      "source": [
        "}"
      ],
      "execution_count": 0,
      "outputs": []
    }
  ]
}